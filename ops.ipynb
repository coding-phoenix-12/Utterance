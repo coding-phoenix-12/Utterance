{
 "cells": [
  {
   "cell_type": "code",
   "execution_count": 1,
   "metadata": {},
   "outputs": [],
   "source": [
    "import os\n",
    "import subprocess\n",
    "import json\n",
    "import hashlib\n",
    "from firebase_admin import credentials, initialize_app, storage"
   ]
  },
  {
   "cell_type": "code",
   "execution_count": 2,
   "metadata": {},
   "outputs": [],
   "source": [
    "root_dir = \"/home/jesuraj/Desktop/bengali_utt_test/audios/\"\n",
    "dest_dir = \"/home/jesuraj/Desktop/bengali_utt_test/mp3_audios/\""
   ]
  },
  {
   "cell_type": "code",
   "execution_count": 3,
   "metadata": {},
   "outputs": [],
   "source": [
    "all_wav_files = []\n",
    "for path, subdirs, files in os.walk(root_dir):\n",
    "    for name in files:\n",
    "        all_wav_files.append(os.path.join(path, name))\n",
    "\n",
    "all_wav_files = [x for x in all_wav_files if x[-3:] == \"wav\" ]\n",
    "\n",
    "for wav_file in all_wav_files:\n",
    "    subprocess.run(\"sox \" + wav_file + \" -t mp3 \" + dest_dir + wav_file.split(\"/\")[-1][0:-4] + \".mp3  norm -0.1\", shell=True)"
   ]
  },
  {
   "cell_type": "code",
   "execution_count": 4,
   "metadata": {},
   "outputs": [],
   "source": [
    "cred = credentials.Certificate(\"/home/jesuraj/Desktop/bengali_utt_test/bengali-utt-test-859817a0a40c.json\")\n",
    "#initialize_app(cred, {'storageBucket': 'hindi-speaker-similarity-check.appspot.com', 'name': 'hindi-speaker-similarity-check'}, name='hindi-speaker-similarity-check')\n",
    "initialize_app(cred, {'storageBucket': 'bengali-utt-test.appspot.com'})\n",
    "\n",
    "all_files = []\n",
    "for path, subdirs, files in os.walk(dest_dir):\n",
    "    for name in files:\n",
    "        all_files.append(os.path.join(path, name))\n",
    "\n",
    "for fname in all_files: \n",
    "    bucket = storage.bucket()\n",
    "    blob = bucket.blob(\"mp3_audios/\" + fname.split(\"/\")[-1])\n",
    "    blob.upload_from_filename(fname)"
   ]
  },
  {
   "cell_type": "code",
   "execution_count": 5,
   "metadata": {},
   "outputs": [],
   "source": [
    "with open(\"/home/jesuraj/Desktop/bengali_utt_test/text\") as fp:\n",
    "    text_maps = fp.readlines()\n",
    "\n",
    "with open(\"/home/jesuraj/Desktop/bengali_utt_test/wav.scp\") as fp:\n",
    "    wav_maps = fp.readlines()\n",
    "\n"
   ]
  },
  {
   "cell_type": "code",
   "execution_count": 6,
   "metadata": {},
   "outputs": [
    {
     "data": {
      "text/plain": [
       "['16777683_641904_281474982077348',\n",
       " '/data/Database/RESPIN/Bengali/bn-100/281474982077348.wav\\n']"
      ]
     },
     "execution_count": 6,
     "metadata": {},
     "output_type": "execute_result"
    }
   ],
   "source": [
    "text_maps[0].split(\" \",1)\n",
    "wav_maps[0].split(\" \", 1)"
   ]
  },
  {
   "cell_type": "code",
   "execution_count": 16,
   "metadata": {},
   "outputs": [],
   "source": [
    "filemap_dict = {}\n",
    "\n",
    "for text_map in text_maps:\n",
    "    filemap_dict[text_map.split(\" \", 1)[0]] = [text_map.split(\" \", 1)[1].strip()]\n",
    "\n",
    "for wav_map in wav_maps:\n",
    "    filemap_dict[wav_map.split(\" \", 1)[0]].append(\"mp3_audios/\" + wav_map.split(\" \", 1)[1].strip().split(\"/\")[-1][:-4] + \".mp3\")\n"
   ]
  },
  {
   "cell_type": "code",
   "execution_count": null,
   "metadata": {},
   "outputs": [],
   "source": [
    "filemap_dict"
   ]
  },
  {
   "cell_type": "code",
   "execution_count": 22,
   "metadata": {},
   "outputs": [],
   "source": [
    "json_dict = {\"mp3path\": {}, \"textpath\": {}}"
   ]
  },
  {
   "cell_type": "code",
   "execution_count": 23,
   "metadata": {},
   "outputs": [],
   "source": [
    "for index in filemap_dict.keys():\n",
    "    json_dict[\"mp3path\"][index] = filemap_dict[index][1]\n",
    "    json_dict[\"textpath\"][index] = filemap_dict[index][0]"
   ]
  },
  {
   "cell_type": "code",
   "execution_count": 25,
   "metadata": {},
   "outputs": [],
   "source": [
    "with open(\"/home/jesuraj/Desktop/bengali_utt_test/bengali-utt-test/src/new_utt_path.json\", \"w\") as fp:\n",
    "    json.dump(json_dict, fp, ensure_ascii=False, indent=True)"
   ]
  },
  {
   "cell_type": "code",
   "execution_count": null,
   "metadata": {},
   "outputs": [],
   "source": [
    "counts = {\"count\": {}}\n",
    "for i in range(0,len(filemap_dict),100):\n",
    "    counts[\"count\"][str(i)] = 0\n",
    "\n",
    "with open(\"/home/jesuraj/Desktop/bengali_utt_test/bengali-utt-test/count.json\", \"w\") as fp:\n",
    "    json.dump(json_dict, fp, ensure_ascii=False, indent=True)"
   ]
  }
 ],
 "metadata": {
  "kernelspec": {
   "display_name": "jesuraj",
   "language": "python",
   "name": "python3"
  },
  "language_info": {
   "codemirror_mode": {
    "name": "ipython",
    "version": 3
   },
   "file_extension": ".py",
   "mimetype": "text/x-python",
   "name": "python",
   "nbconvert_exporter": "python",
   "pygments_lexer": "ipython3",
   "version": "3.9.12"
  },
  "orig_nbformat": 4,
  "vscode": {
   "interpreter": {
    "hash": "eec2820b37e2f80448ce66f69193f02c5249f14e8bcfa6591d251ee8723b6609"
   }
  }
 },
 "nbformat": 4,
 "nbformat_minor": 2
}
